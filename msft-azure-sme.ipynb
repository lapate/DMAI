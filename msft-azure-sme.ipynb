{
 "cells": [
  {
   "cell_type": "markdown",
   "id": "2d5b75b2",
   "metadata": {},
   "source": [
    "# Single Agent MCP Example\n",
    "\n",
    "To start, login to azure via the CLI:\n",
    "\n",
    "`az login --tenant <YOUR_TENANT_ID>`\n",
    "\n",
    "`az account set -s <YOUR_SUBSCRIPTION_ID>`"
   ]
  },
  {
   "cell_type": "code",
   "execution_count": null,
   "id": "3794f39b",
   "metadata": {},
   "outputs": [],
   "source": [
    "import os, time\n",
    "from dotenv import load_dotenv\n",
    "from azure.ai.projects import AIProjectClient\n",
    "from azure.identity import DefaultAzureCredential\n",
    "from azure.ai.agents import AgentsClient\n",
    "from azure.ai.agents.models import McpTool, RequiredMcpToolCall, SubmitToolApprovalAction, ToolApproval"
   ]
  },
  {
   "cell_type": "code",
   "execution_count": null,
   "id": "e0186f47",
   "metadata": {},
   "outputs": [],
   "source": [
    "load_dotenv()\n",
    "\n",
    "agent_client = AgentsClient(\n",
    "    endpoint=os.getenv(\"PROJECT_ENDPOINT\"),\n",
    "    credential=DefaultAzureCredential()\n",
    ")"
   ]
  },
  {
   "cell_type": "code",
   "execution_count": null,
   "id": "d380073b",
   "metadata": {},
   "outputs": [],
   "source": [
    "# Get the MCP server configuration from environment variables\n",
    "mcp_server_url = os.environ.get(\"MCP_MSFT_DOCS_SERVER\")\n",
    "mcp_server_label = \"msdocs\"\n",
    "\n",
    "print(f\"Using MCP server: {mcp_server_label} at {mcp_server_url}\")\n",
    "\n",
    "mcp_tool = McpTool(\n",
    "    server_label=mcp_server_label,\n",
    "    server_url=mcp_server_url,\n",
    ")"
   ]
  },
  {
   "cell_type": "code",
   "execution_count": null,
   "id": "f757f5ec",
   "metadata": {},
   "outputs": [],
   "source": [
    "agent_id = \"\"\n",
    "# Create agent with MCP tool and process agent run\n",
    "\n",
    "    # Create a new agent.\n",
    "    # NOTE: To reuse existing agent, fetch it with get_agent(agent_id)\n",
    "agent = agent_client.create_agent(\n",
    "        model=os.environ[\"MODEL_DEPLOYMENT_NAME\"],\n",
    "        name=\"azure-expert-agent\",\n",
    "        instructions=(\n",
    "            \"\"\"\n",
    "            You are an expert in Azure services and tools. Your task is to assist users with their Azure-related questions and tasks.\n",
    "            \n",
    "            Use the MCP tool to: \n",
    "            - Access the latest Azure documentation and resources to provide accurate and up-to-date information.\n",
    "            - Share useful links, code snippets, and explanations based on the user's request.\n",
    "            - Perform tasks such as retrieving documentation, checking service status, and providing guidance on Azure best practices.\n",
    "\n",
    "            When a user asks a question or requests assistance, you will use the MCP tool to find relevant information and provide a response. \n",
    "            If the MCP tool is not available, you will inform the user that the tool is not available and cannot assist with their request.\n",
    "            Ensure that your responses are clear, concise, and relevant to the user's request. Do not provide any unverified information.\n",
    "            If you are unable to assist with a request, inform the user that you cannot help with that request at this time.\n",
    "\n",
    "            \"\"\"\n",
    "        ),\n",
    "        tools=mcp_tool.definitions,\n",
    "    )\n",
    "agent_id = agent.id\n",
    "print(f\"Created agent: {agent.name} with ID: {agent.id}\")"
   ]
  },
  {
   "cell_type": "code",
   "execution_count": null,
   "id": "d7df5643",
   "metadata": {},
   "outputs": [],
   "source": [
    "# create agent thread\n",
    "thread = agent_client.threads.create()\n",
    "print(f\"Created thread, ID: {thread.id}\")"
   ]
  },
  {
   "cell_type": "code",
   "execution_count": null,
   "id": "3e10db64",
   "metadata": {},
   "outputs": [],
   "source": [
    "question = \"\"\"\n",
    "I have a customer that is interested in building AI solutions on Azure, but they do not have a strong developer background. \n",
    "What are the best low-code solutions available in Azure and M365 to help them get started with AI?\n",
    "\"\"\"\n",
    "\n",
    "#question = \"\"\"\n",
    "#I have a customer that runs Ansys on-premises and wants to migrate to Azure. They run the workload using a Slurm cluster.\n",
    "#What is the best platform and architecture I can recommend for this migration?\n",
    "#\"\"\""
   ]
  },
  {
   "cell_type": "code",
   "execution_count": null,
   "id": "5e352ce1",
   "metadata": {},
   "outputs": [],
   "source": [
    "# Create a message for the thread\n",
    "message = agent_client.messages.create(\n",
    "    thread_id=thread.id,\n",
    "    role=\"user\",\n",
    "    content=question,\n",
    ")\n",
    "print(f\"Created message, ID: {message.id}\")\n"
   ]
  },
  {
   "cell_type": "code",
   "execution_count": null,
   "id": "13cb0406",
   "metadata": {},
   "outputs": [],
   "source": [
    "mcp_tool.set_approval_mode(\"never\")  \n",
    "run = agent_client.runs.create(thread_id=thread.id, agent_id=agent.id, tool_resources=mcp_tool.resources)\n",
    "print(f\"Created run, ID: {run.id}\")"
   ]
  },
  {
   "cell_type": "code",
   "execution_count": null,
   "id": "85c30783",
   "metadata": {},
   "outputs": [],
   "source": [
    "while run.status in [\"queued\", \"in_progress\", \"requires_action\"]:\n",
    "        time.sleep(1)\n",
    "        run = agent_client.runs.get(thread_id=thread.id, run_id=run.id)\n",
    "\n",
    "        if run.status == \"requires_action\" and isinstance(run.required_action, SubmitToolApprovalAction):\n",
    "            tool_calls = run.required_action.submit_tool_approval.tool_calls\n",
    "            if not tool_calls:\n",
    "                print(\"No tool calls provided - cancelling run\")\n",
    "                agent_client.runs.cancel(thread_id=thread.id, run_id=run.id)\n",
    "                break\n",
    "\n",
    "            tool_approvals = []\n",
    "            for tool_call in tool_calls:\n",
    "                if isinstance(tool_call, RequiredMcpToolCall):\n",
    "                    try:\n",
    "                        print(f\"Approving tool call: {tool_call}\")\n",
    "                        tool_approvals.append(\n",
    "                            ToolApproval(\n",
    "                                tool_call_id=tool_call.id,\n",
    "                                approve=True,\n",
    "                                headers=mcp_tool.headers,\n",
    "                            )\n",
    "                        )\n",
    "                    except Exception as e:\n",
    "                        print(f\"Error approving tool_call {tool_call.id}: {e}\")\n",
    "\n",
    "            print(f\"tool_approvals: {tool_approvals}\")\n",
    "            if tool_approvals:\n",
    "                agent_client.runs.submit_tool_outputs(\n",
    "                    thread_id=thread.id, run_id=run.id, tool_approvals=tool_approvals\n",
    "                )\n",
    "\n",
    "        print(f\"Current run status: {run.status}\")\n",
    "        # [END handle_tool_approvals]\n",
    "\n",
    "print(f\"Run completed with status: {run.status}\")\n",
    "if run.status == \"failed\":\n",
    "    print(f\"Run failed: {run.last_error}\")"
   ]
  },
  {
   "cell_type": "code",
   "execution_count": null,
   "id": "0ff421b8",
   "metadata": {},
   "outputs": [],
   "source": [
    "run_steps = agent_client.run_steps.list(thread_id=thread.id, run_id=run.id)\n",
    "\n",
    "for step in run_steps:\n",
    "    print(f\"Step ID: {step.id}, Status: {step.status}\")\n",
    "\n",
    "    step_details = step.get(\"step_details\", {})\n",
    "    tool_calls = step_details.get(\"tool_calls\", [])\n",
    "    \n",
    "    if tool_calls:\n",
    "        for call in tool_calls:\n",
    "            print(f\"    Tool Call ID: {call.get('id')}\")\n",
    "            print(f\"    Type: {call.get('type')}\")\n",
    "    print()"
   ]
  },
  {
   "cell_type": "code",
   "execution_count": null,
   "id": "9358bbf1",
   "metadata": {},
   "outputs": [],
   "source": [
    "messages = agent_client.messages.list(thread_id=thread.id)\n",
    "\n",
    "print(\"\\nConversation:\")\n",
    "print(\"-\" * 50)\n",
    "\n",
    "for msg in messages:\n",
    "    if msg.text_messages: \n",
    "        last_text = msg.text_messages[-1]\n",
    "        print(f\"{msg.role.upper()}: {last_text.text.value}\")\n",
    "        print(\"-\" * 50)"
   ]
  },
  {
   "cell_type": "code",
   "execution_count": null,
   "id": "480e2113",
   "metadata": {},
   "outputs": [],
   "source": [
    "agent_client.delete_agent(agent_id)\n",
    "print(\"Deleted agent\")"
   ]
  }
 ],
 "metadata": {
  "kernelspec": {
   "display_name": "Python 3",
   "language": "python",
   "name": "python3"
  },
  "language_info": {
   "codemirror_mode": {
    "name": "ipython",
    "version": 3
   },
   "file_extension": ".py",
   "mimetype": "text/x-python",
   "name": "python",
   "nbconvert_exporter": "python",
   "pygments_lexer": "ipython3",
   "version": "3.12.11"
  }
 },
 "nbformat": 4,
 "nbformat_minor": 5
}
