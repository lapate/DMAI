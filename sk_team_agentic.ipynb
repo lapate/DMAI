{
 "cells": [
  {
   "cell_type": "code",
   "execution_count": null,
   "id": "494be081",
   "metadata": {},
   "outputs": [],
   "source": [
    "# First, we add all the packages we need to the system.\n",
    "# This is what enables us to run all the code below.\n",
    "\n",
    "import os\n",
    "from dotenv import load_dotenv\n",
    "\n",
    "from semantic_kernel.connectors.ai.open_ai import AzureChatCompletion\n",
    "from semantic_kernel.agents import Agent, ChatCompletionAgent, GroupChatOrchestration, OrchestrationHandoffs, RoundRobinGroupChatManager\n",
    "from semantic_kernel.contents import ChatMessageContent\n",
    "from semantic_kernel.connectors.mcp import MCPStdioPlugin\n",
    "from semantic_kernel.agents.runtime import InProcessRuntime"
   ]
  },
  {
   "cell_type": "code",
   "execution_count": null,
   "id": "461557ba",
   "metadata": {},
   "outputs": [],
   "source": [
    "# Here, we connect to the Azure AI Foundry, and get the necessary environment variables\n",
    "# including the project endpoint, model deployment name, and tenant ID.\n",
    "\n",
    "load_dotenv()\n",
    "endpoint = os.getenv(\"ENDPOINT\")\n",
    "model_deployment = os.getenv(\"MODEL_DEPLOYMENT_NAME\")\n",
    "api_key = os.getenv(\"API_KEY\")\n",
    "api_version = os.getenv(\"API_VERSION\")"
   ]
  },
  {
   "cell_type": "code",
   "execution_count": null,
   "id": "0c7cc752",
   "metadata": {},
   "outputs": [],
   "source": [
    "# This block of code connects to the MCP Server\n",
    "async with MCPStdioPlugin(\n",
    "    name=\"InventoryManagementMCPPlugin\",\n",
    "    description=\"Inventory Management MCP Plugin\",\n",
    "    command=\"python\",\n",
    "    args=[\"server.py\"],\n",
    ") as inventory_plugin:\n",
    "    pass\n",
    " \n",
    "chat_service = AzureChatCompletion(\n",
    "    endpoint=endpoint,\n",
    "    deployment_name=model_deployment,\n",
    "    api_version=api_version,\n",
    "    api_key=api_key\n",
    ")"
   ]
  },
  {
   "cell_type": "code",
   "execution_count": null,
   "id": "0c76ab68",
   "metadata": {},
   "outputs": [],
   "source": [
    "def get_agents() -> tuple[list[Agent], OrchestrationHandoffs]:\n",
    "    # Returns a list of agents\n",
    "\n",
    "    inventory_agent = ChatCompletionAgent(\n",
    "        name=\"InventoryAgent\",\n",
    "        description=\"An agent that is knowledgeable about the inventory.\",\n",
    "        instructions=\"Handle research and information about the inventory, including stock levels and item details.\",\n",
    "        service=chat_service,\n",
    "        plugins=[inventory_plugin],\n",
    "    )\n",
    "\n",
    "    accounting_agent = ChatCompletionAgent(\n",
    "        name=\"AccountingAgent\",\n",
    "        description=\"An agent that is knowledgeable about accounting tasks.\",\n",
    "        instructions=\"Receive reports of inventory status, and prepare a list of items to order, keeping in mind a budget of $1000.\",\n",
    "        service=chat_service,\n",
    "        plugins=[inventory_plugin],\n",
    "    )\n",
    "\n",
    "    inventory_purchasing_agent = ChatCompletionAgent(\n",
    "        name=\"InventoryPurchasingAgent\",\n",
    "        description=\"An agent that is able to purchase inventory items.\",\n",
    "        instructions=\"Handle purchasing tasks for inventory items, and will purchase items that the accounting agent has recommended. Use tools to place orders, and then confirm the order.\",\n",
    "        service=chat_service,\n",
    "        plugins=[inventory_plugin],\n",
    "    )\n",
    "\n",
    "    return [inventory_agent, accounting_agent, inventory_purchasing_agent]"
   ]
  },
  {
   "cell_type": "code",
   "execution_count": null,
   "id": "0a8b62e1",
   "metadata": {},
   "outputs": [],
   "source": [
    "def agent_response_callback(message: ChatMessageContent) -> None:\n",
    "    \"\"\"Observer function to print the messages from the agents.\"\"\"\n",
    "    if message.content:\n",
    "        print(f\"🤖{message.name}\\n{message.content}\")"
   ]
  },
  {
   "cell_type": "code",
   "execution_count": null,
   "id": "7b51da91",
   "metadata": {},
   "outputs": [],
   "source": [
    "await inventory_plugin.connect()\n",
    "\n",
    "# 1. Create a group chat orchestration with a round robin manager\n",
    "agents = get_agents()\n",
    "group_chat_orchestration = GroupChatOrchestration(\n",
    "    members=agents,\n",
    "    # max_rounds is odd, so that the writer gets the last round\n",
    "    manager=RoundRobinGroupChatManager(max_rounds=5),\n",
    "    agent_response_callback=agent_response_callback,\n",
    ")\n",
    "\n",
    "# 2. Create a runtime and start it\n",
    "runtime = InProcessRuntime()\n",
    "runtime.start()\n",
    "\n",
    "# 3. Invoke the orchestration with a task and the runtime\n",
    "orchestration_result = await group_chat_orchestration.invoke(\n",
    "    task=\"\"\"\n",
    "    Use the InventoryAgent to research all the products in the Inventory that are low in stock, and prepare a report for the AccountingAgent.\n",
    "    Ensure the AccountingAgent returns a a list of items to order, keeping in mind a budget of $1000.\n",
    "    Send the list of items to order to the InventoryPurchasingAgent, and update the stock with what the AccountingAgent has suggested.\n",
    "    Don't ask if the stock should be updated, just do it.\n",
    "    When done, use the tools to retrieve the new product inventory units in stock from the InventoryAgent, indicating the before and after stock levels.\"\"\",\n",
    "    runtime=runtime,\n",
    ")\n",
    "\n",
    "# 4. Wait for the results\n",
    "value = await orchestration_result.get()\n",
    "print(f\"***** Result *****\\n{value}\")\n",
    "\n",
    "# 5. Stop the runtime after the invocation is complete\n",
    "await runtime.stop_when_idle()\n",
    "await inventory_plugin.close() if inventory_plugin else None"
   ]
  }
 ],
 "metadata": {
  "kernelspec": {
   "display_name": "Python 3",
   "language": "python",
   "name": "python3"
  },
  "language_info": {
   "codemirror_mode": {
    "name": "ipython",
    "version": 3
   },
   "file_extension": ".py",
   "mimetype": "text/x-python",
   "name": "python",
   "nbconvert_exporter": "python",
   "pygments_lexer": "ipython3",
   "version": "3.12.11"
  }
 },
 "nbformat": 4,
 "nbformat_minor": 5
}
