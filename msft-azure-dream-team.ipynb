{
 "cells": [
  {
   "cell_type": "markdown",
   "id": "6b516632",
   "metadata": {},
   "source": [
    "# Multi-Agent MCP Example"
   ]
  },
  {
   "cell_type": "code",
   "execution_count": 1,
   "id": "12cbca44",
   "metadata": {},
   "outputs": [],
   "source": [
    "import os, time\n",
    "from dotenv import load_dotenv\n",
    "from typing import Optional, Set\n",
    "\n",
    "from azure.identity import DefaultAzureCredential\n",
    "from azure.ai.agents import AgentsClient\n",
    "from azure.ai.agents.models import FunctionTool, ToolSet, McpTool\n",
    "from utils.agent_team import AgentTeam, AgentTask"
   ]
  },
  {
   "cell_type": "code",
   "execution_count": 2,
   "id": "c0f9c316",
   "metadata": {},
   "outputs": [],
   "source": [
    "load_dotenv()\n",
    "# Initialize the AI Project Client\n",
    "agent_client = AgentsClient(\n",
    "    endpoint=os.getenv(\"PROJECT_ENDPOINT\"),\n",
    "    credential=DefaultAzureCredential()\n",
    ")"
   ]
  },
  {
   "cell_type": "code",
   "execution_count": 3,
   "id": "7725a471",
   "metadata": {},
   "outputs": [
    {
     "name": "stdout",
     "output_type": "stream",
     "text": [
      "Using MCP server: msdocs at https://learn.microsoft.com/api/mcp\n"
     ]
    }
   ],
   "source": [
    "# Get the MCP server configuration from environment variables\n",
    "mcp_server_url = os.environ.get(\"MCP_MSFT_DOCS_SERVER\")\n",
    "mcp_server_label = \"msdocs\"\n",
    "\n",
    "print(f\"Using MCP server: {mcp_server_label} at {mcp_server_url}\")\n",
    "\n",
    "msft_docs_mcp_tool = McpTool(\n",
    "    server_label=mcp_server_label,\n",
    "    server_url=mcp_server_url,\n",
    ")\n",
    "\n",
    "msft_docs_mcp_tool.set_approval_mode(\"never\")"
   ]
  },
  {
   "cell_type": "code",
   "execution_count": 4,
   "id": "836b6275",
   "metadata": {},
   "outputs": [],
   "source": [
    "def create_task(team_name: str, recipient: str, request: str, requestor: str) -> str:\n",
    "    \"\"\"\n",
    "    Requests another agent in the team to complete a task.\n",
    "\n",
    "    :param team_name (str): The name of the team.\n",
    "    :param recipient (str): The name of the agent that is being requested to complete the task.\n",
    "    :param request (str): A description of the to complete. This can also be a question.\n",
    "    :param requestor (str): The name of the agent who is requesting the task.\n",
    "    :return: True if the task was successfully received, False otherwise.\n",
    "    :rtype: str\n",
    "    \"\"\"\n",
    "    task = AgentTask(recipient=recipient, task_description=request, requestor=requestor)\n",
    "    team: Optional[AgentTeam] = None\n",
    "    try:\n",
    "        team = AgentTeam.get_team(team_name)\n",
    "    except:\n",
    "        pass\n",
    "    if team is not None:\n",
    "        team.add_task(task)\n",
    "        return \"True\"\n",
    "    return \"False\"\n",
    "\n",
    "\n",
    "# Any additional functions that might be used by the agents:\n",
    "agent_team_default_functions: Set = {\n",
    "    create_task,\n",
    "}\n",
    "\n",
    "default_function_tool = FunctionTool(functions=agent_team_default_functions)"
   ]
  },
  {
   "cell_type": "code",
   "execution_count": 5,
   "id": "9f1767b4",
   "metadata": {},
   "outputs": [],
   "source": [
    "agent_team = AgentTeam(\"account_team\", agents_client=agent_client)"
   ]
  },
  {
   "cell_type": "code",
   "execution_count": 6,
   "id": "92430152",
   "metadata": {},
   "outputs": [],
   "source": [
    "account_manager_toolset = ToolSet()\n",
    "account_manager_toolset.add(default_function_tool)\n"
   ]
  },
  {
   "cell_type": "code",
   "execution_count": 7,
   "id": "2d6e0b56",
   "metadata": {},
   "outputs": [],
   "source": [
    "agent_team.set_team_leader(\n",
    "    model=os.environ[\"MODEL_DEPLOYMENT_NAME\"],\n",
    "    name=\"TeamLeader\",\n",
    "    instructions=(\n",
    "        \"You are an agent named 'TeamLeader'. You are a leader of a team of agents. The name of your team is 'account_team'. \"\n",
    "        \"You are an agent that is responsible for receiving requests from user and utilizing a team of agents to complete the task. \"\n",
    "        \"When you are passed a request, the only thing you will do is evaluate which team member should do which task next to complete the request. \"\n",
    "        \"You will use the provided create_task function to create a task for the agent that is best suited for handling the task next. \"\n",
    "        \"You will respond with the description of who you assigned the task and why. When you think that the original user request is \"\n",
    "        \"processed completely utilizing all the talent available in the team, you do not have to create anymore tasks. \"\n",
    "        \"Using the skills of all the team members when applicable is highly valued. \"\n",
    "        \"Do not create parallel tasks. \"\n",
    "        \"Here are the other agents in your team: \"\n",
    "        \"- Specialist: You are an expert in Azure services and tools. Your task is to assist users with their Azure-related questions and tasks. Your name is Specialist. \"\n",
    "        \"- Engineer: You are an engineer who specializes in architecting and implementing solutions on Azure. Your task is to review recommended solutions for a request and validate that they meet the requirements. Your name is Engineer. \"\n",
    "    ),\n",
    "    toolset=account_manager_toolset,\n",
    ")"
   ]
  },
  {
   "cell_type": "code",
   "execution_count": 8,
   "id": "71d28be0",
   "metadata": {},
   "outputs": [],
   "source": [
    "specialist_toolset = ToolSet()\n",
    "specialist_toolset.add(msft_docs_mcp_tool)"
   ]
  },
  {
   "cell_type": "code",
   "execution_count": 9,
   "id": "47fa1fe5",
   "metadata": {},
   "outputs": [],
   "source": [
    "agent_team.add_agent(\n",
    "    model=os.environ[\"MODEL_DEPLOYMENT_NAME\"],\n",
    "    name=\"Specialist\",\n",
    "    instructions=\"\"\"\n",
    "            You are an expert in Azure services and tools. Your task is to assist users with their Azure-related questions and tasks. Your name is Specialist.\n",
    "            \n",
    "            Use the MCP tool to: \n",
    "            - Access the latest Azure documentation and resources to provide accurate and up-to-date information.\n",
    "            - Share useful links, code snippets, and explanations based on the user's request.\n",
    "            - Perform tasks such as retrieving documentation, checking service status, and providing guidance on Azure best practices.\n",
    "\n",
    "            When a user asks a question or requests assistance, you will use the MCP tool to find relevant information and provide a response. \n",
    "            If the MCP tool is not available, you will inform the user that the tool is not available and cannot assist with their request.\n",
    "            Ensure that your responses are clear, concise, and relevant to the user's request. Do not provide any unverified information.\n",
    "            If you are unable to assist with a request, inform the user that you cannot help with that request at this time.\n",
    "    \"\"\",\n",
    "    toolset=specialist_toolset,\n",
    ")"
   ]
  },
  {
   "cell_type": "code",
   "execution_count": 10,
   "id": "b19771d8",
   "metadata": {},
   "outputs": [],
   "source": [
    "agent_team.add_agent(\n",
    "    model=os.environ[\"MODEL_DEPLOYMENT_NAME\"],\n",
    "    name=\"Engineer\",\n",
    "    instructions=\"\"\"\n",
    "            You are an engineer who specializes in architecting and implementing solutions on Azure. Your name is Engineer.\n",
    "            Your task is to review recommended solutions for a request and validate that they meet the requirements.\n",
    "\n",
    "            Use the MCP tool to: \n",
    "            - Ensure that all solutions are necessary to implement an architecture.\n",
    "            - Determine if two solutions meet the same requirement and are not meant to be used in combination to implement an architecture.\n",
    "            - Ensure that the selected solutions will produce an architecture that aligns with best practices.\n",
    "            - Perform tasks such as retrieving documentation.            \n",
    "\n",
    "            If two solutions meet the same requirement and are not meant to be used in combination to implement an architecture, pick the best solution, and update the recommendation. \n",
    "            Remove solutions from the recommendation that do not meet the requirements or are not necessary to implement an architecture.     \n",
    "    \"\"\",\n",
    "    toolset=specialist_toolset,\n",
    ")"
   ]
  },
  {
   "cell_type": "code",
   "execution_count": 11,
   "id": "17cee036",
   "metadata": {},
   "outputs": [],
   "source": [
    "agent_team.assemble_team()"
   ]
  },
  {
   "cell_type": "code",
   "execution_count": 12,
   "id": "582976a3",
   "metadata": {},
   "outputs": [],
   "source": [
    "cx_request = \"\"\"\n",
    "    I want to build a RAG web application that uses Azure OpenAI to answer questions about my data. \n",
    "    Can you recommend an architecture for implementing this?\n",
    "\"\"\""
   ]
  },
  {
   "cell_type": "code",
   "execution_count": 13,
   "id": "54ffa891",
   "metadata": {},
   "outputs": [
    {
     "name": "stdout",
     "output_type": "stream",
     "text": [
      "Created thread with ID: thread_bVvuvtKle1T3ewsNdACLZ58T\n",
      "Starting task for agent 'TeamLeader'. Requestor: 'user'. Task description: 'Please create a task for agent in the team that is best suited to next process the following request. \n",
      "Use the _create_task function available for you to create the task. The request is: \n",
      "\n",
      "    I want to build a RAG web application that uses Azure OpenAI to answer questions about my data. \n",
      "    Can you recommend an architecture for implementing this?\n",
      "\n",
      "'.\n",
      "Created message with ID: msg_GZ7At1d6H5VckaMrESAnCCte for task in thread thread_bVvuvtKle1T3ewsNdACLZ58T\n",
      "Found agent 'TeamLeader' for task recipient 'TeamLeader'\n",
      "Processing task for agent 'TeamLeader'\n",
      "run status for agent 'TeamLeader': RunStatus.QUEUED\n",
      "Submitted tool outputs for run run_tKWYdQadm2kZJE3sbtiuWD4e in thread thread_bVvuvtKle1T3ewsNdACLZ58T\n",
      "Created and processed run for agent 'TeamLeader', run ID: run_tKWYdQadm2kZJE3sbtiuWD4e\n",
      "Run outputs 'TeamLeader': RunStatus.COMPLETED\n",
      "Agent 'TeamLeader' completed task. Outcome: I have assigned the task to Specialist because they are an expert in Azure services and tools, which is crucial for recommending an appropriate architecture involving Azure OpenAI for the RAG web application. Once the Specialist provides the recommendation, we can proceed with further steps if needed.\n",
      "Starting task for agent 'Specialist'. Requestor: 'TeamLeader'. Task description: 'Recommend an architecture for implementing a RAG web application that uses Azure OpenAI to answer questions about user data.'.\n",
      "Created message with ID: msg_iRRFgzMjwRryG23cJ59KStRt for task in thread thread_bVvuvtKle1T3ewsNdACLZ58T\n",
      "Found agent 'Specialist' for task recipient 'Specialist'\n",
      "Processing task for agent 'Specialist'\n",
      "run status for agent 'Specialist': RunStatus.QUEUED\n",
      "Approving tool call: {'id': 'call_Cg3qGRzTm2mpXFgxMcsIcABI', 'type': 'mcp', 'arguments': '{\"question\":\"Architecture for a RAG web application using Azure OpenAI to answer questions about user data\"}', 'name': 'microsoft_docs_search', 'server_label': 'msdocs'}\n",
      "Created and processed run for agent 'Specialist', run ID: run_5opVv8ytMzyixCKHpyGlRStt\n",
      "Run outputs 'Specialist': RunStatus.COMPLETED\n",
      "Agent 'Specialist' completed task. Outcome: Here is a recommended architecture for implementing a Retrieval-Augmented Generation (RAG) web application that uses Azure OpenAI to answer questions about your data:\n",
      "\n",
      "1. User Interface (Web App):\n",
      "   - The user interacts with an intelligent web application through a user interface where they submit queries.\n",
      "\n",
      "2. Orchestrator Layer (Optional but recommended):\n",
      "   - An orchestrator (which can be implemented using Semantic Kernel, Azure AI Agent service, or LangChain) receives the user's query.\n",
      "   - The orchestrator performs a search query on Azure AI Search to retrieve relevant documents or data chunks related to the user's query.\n",
      "\n",
      "3. Azure AI Search:\n",
      "   - Azure AI Search is used as the vector search engine. It indexes your data after it has been processed and turned into embeddings (vector representations).\n",
      "   - The search engine returns the top N relevant documents or data chunks to the orchestrator.\n",
      "\n",
      "4. Azure OpenAI Service:\n",
      "   - The orchestrator sends the user's query along with the retrieved search results (as context) to the Azure OpenAI language model.\n",
      "   - The OpenAI model generates a response by combining the retrieved data and the user's query context.\n",
      "\n",
      "5. Data Pipeline (for processing and indexing data into Azure AI Search):\n",
      "   - Documents are ingested into the data pipeline.\n",
      "   - The pipeline processes documents by chunking them into semantically meaningful parts.\n",
      "   - Each chunk is enriched with metadata.\n",
      "   - The chunks are converted into embeddings using an embedding model.\n",
      "   - The resulting vectors and metadata are persisted to Azure AI Search for later retrieval.\n",
      "\n",
      "6. Response Delivery:\n",
      "   - The generated response from Azure OpenAI is sent back through the orchestrator to the web application.\n",
      "   - The web application presents the answer to the user, possibly with citations to the original source documents.\n",
      "\n",
      "Key advantages of this architecture:\n",
      "- Azure AI Search's integrated vectorization simplifies document ingestion and search.\n",
      "- Azure OpenAI's On Your Data pattern enables easy API calls that handle prompt engineering and query optimization.\n",
      "- Advanced hybrid search combines keyword matching, vector similarity, and AI-powered ranking.\n",
      "- Responses can include citations to source documents for verifiability.\n",
      "\n",
      "For detailed guidance, architectures, and code samples, you can visit the official Microsoft documentation here:\n",
      "https://learn.microsoft.com/en-us/azure/architecture/ai-ml/guide/rag/rag-solution-design-and-evaluation-guide#rag-architecture\n",
      "\n",
      "If you want, I can provide more detailed steps or specific code examples for parts of this architecture. Would you like me to do that?\n",
      "Starting task for agent 'TeamLeader'. Requestor: 'user'. Task description: 'Check the discussion so far and especially the most recent agent response in the thread and if you see a potential task \n",
      "that could improve the final outcome, then use the _create_task function to create the task. \n",
      "Do not ever ask user confirmation for creating a task. \n",
      "If the request is completely processed, you do not have to create a task.\n",
      "'.\n",
      "Created message with ID: msg_Siwqjdo56wZgInG4ctdCb7Sp for task in thread thread_bVvuvtKle1T3ewsNdACLZ58T\n",
      "Found agent 'TeamLeader' for task recipient 'TeamLeader'\n",
      "Processing task for agent 'TeamLeader'\n",
      "run status for agent 'TeamLeader': RunStatus.QUEUED\n",
      "Submitted tool outputs for run run_g7INfxk5Sp8KUTKUoqOeAa2N in thread thread_bVvuvtKle1T3ewsNdACLZ58T\n",
      "Created and processed run for agent 'TeamLeader', run ID: run_g7INfxk5Sp8KUTKUoqOeAa2N\n",
      "Run outputs 'TeamLeader': RunStatus.COMPLETED\n",
      "Agent 'TeamLeader' completed task. Outcome: I have assigned the task to Engineer to review the recommended architecture for implementing the RAG web application using Azure OpenAI. The Engineer will validate that the solution meets the requirements and is feasible for implementation, ensuring the final outcome's quality and reliability.\n",
      "Starting task for agent 'Engineer'. Requestor: 'TeamLeader'. Task description: 'Review the recommended architecture for implementing a RAG web application using Azure OpenAI to ensure it meets the requirements and is feasible for implementation.'.\n",
      "Created message with ID: msg_eEBY1eREuWX6SeozCwv6Y4Hv for task in thread thread_bVvuvtKle1T3ewsNdACLZ58T\n",
      "Found agent 'Engineer' for task recipient 'Engineer'\n",
      "Processing task for agent 'Engineer'\n",
      "run status for agent 'Engineer': RunStatus.QUEUED\n",
      "Created and processed run for agent 'Engineer', run ID: run_aNTKiSUn7zK2284Rzk2NOyNz\n",
      "Run outputs 'Engineer': RunStatus.COMPLETED\n",
      "Agent 'Engineer' completed task. Outcome: Review of the recommended architecture for implementing a RAG (Retrieval-Augmented Generation) web application using Azure OpenAI:\n",
      "\n",
      "1. Components & Flow:\n",
      "- User Interface (Web App): Appropriate as it provides a frontend for user interaction.\n",
      "- Orchestrator Layer: Suggested use of Semantic Kernel, Azure AI Agent service, or LangChain for query orchestration is suitable. Ensuring orchestration is crucial to handle search and generation flow.\n",
      "- Azure AI Search: Usage as the vector search engine is standard practice for RAG implementations. Properly indexing data as embeddings supports efficient retrieval.\n",
      "- Azure OpenAI Service: Combines user query and retrieved documents for generation, aligning with best practices for retrieval-augmented generation.\n",
      "- Data Pipeline: The ingestion, chunking, embedding, and indexing process is essential for supporting accurate search results.\n",
      "- Response Delivery: Sending the generated response back to the user with citations ensures verifiability and user trust.\n",
      "\n",
      "2. Architecture Best Practices:\n",
      "- Use of Azure AI Search integrated vectorization and hybrid search provides strong retrieval capability.\n",
      "- Leveraging Azure OpenAI \"On Your Data\" patterns simplifies development and improves response quality.\n",
      "- Including source citations enhances transparency and reliability.\n",
      "- Modular design allows components to be independently upgraded or replaced.\n",
      "\n",
      "3. Feasibility:\n",
      "- All proposed services and patterns are available in Azure and widely used.\n",
      "- The architecture supports scalability by leveraging cloud-native Azure services.\n",
      "- Developer tools and SDKs such as Semantic Kernel and LangChain support lossless integration.\n",
      "\n",
      "4. Recommendations:\n",
      "- Ensure proper security for data ingestion, storage, and API access.\n",
      "- Design the data pipeline to handle incremental data updates without re-indexing all data.\n",
      "- Monitor system performance and tune search and generation parameters to balance accuracy and latency.\n",
      "- Consider user experience features such as query suggestions, follow-up question handling, and response explanation.\n",
      "\n",
      "Conclusion:\n",
      "The recommended architecture is comprehensive, meets the requirements for a RAG web application using Azure OpenAI, and aligns with best practices. It is feasible for implementation in an Azure environment.\n",
      "\n",
      "No unnecessary or conflicting solutions were identified, so no removal is needed.\n",
      "\n",
      "If you require, I can assist further with detailed design, implementation steps, or code examples.\n",
      "Starting task for agent 'TeamLeader'. Requestor: 'user'. Task description: 'Check the discussion so far and especially the most recent agent response in the thread and if you see a potential task \n",
      "that could improve the final outcome, then use the _create_task function to create the task. \n",
      "Do not ever ask user confirmation for creating a task. \n",
      "If the request is completely processed, you do not have to create a task.\n",
      "'.\n",
      "Created message with ID: msg_vboOKLjJGSjNv7HnAugMPsRL for task in thread thread_bVvuvtKle1T3ewsNdACLZ58T\n",
      "Found agent 'TeamLeader' for task recipient 'TeamLeader'\n",
      "Processing task for agent 'TeamLeader'\n",
      "run status for agent 'TeamLeader': RunStatus.QUEUED\n",
      "Created and processed run for agent 'TeamLeader', run ID: run_gSbO5GfB8y6mKfyQ2kXjCMSP\n",
      "Run outputs 'TeamLeader': RunStatus.COMPLETED\n",
      "Agent 'TeamLeader' completed task. Outcome: The recommended architecture and its review have been completed, covering both the design and its feasibility. The initial user request to recommend an architecture for a RAG web application using Azure OpenAI has been thoroughly addressed.\n",
      "\n",
      "As the solution meets the requirements and no further improvement tasks are necessary from the current discussion, no additional tasks will be created. The request is now completely processed.\n"
     ]
    }
   ],
   "source": [
    "agent_team.process_request(request=cx_request)"
   ]
  },
  {
   "cell_type": "code",
   "execution_count": 14,
   "id": "ce246a61",
   "metadata": {},
   "outputs": [
    {
     "name": "stdout",
     "output_type": "stream",
     "text": [
      "Deleting team leader agent 'TeamLeader'\n",
      "Deleting agent 'Specialist'\n",
      "Deleting agent 'Engineer'\n"
     ]
    }
   ],
   "source": [
    "agent_team.dismantle_team()"
   ]
  }
 ],
 "metadata": {
  "kernelspec": {
   "display_name": "Python 3",
   "language": "python",
   "name": "python3"
  },
  "language_info": {
   "codemirror_mode": {
    "name": "ipython",
    "version": 3
   },
   "file_extension": ".py",
   "mimetype": "text/x-python",
   "name": "python",
   "nbconvert_exporter": "python",
   "pygments_lexer": "ipython3",
   "version": "3.12.11"
  }
 },
 "nbformat": 4,
 "nbformat_minor": 5
}
