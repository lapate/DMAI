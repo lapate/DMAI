{
 "cells": [
  {
   "cell_type": "markdown",
   "id": "6b516632",
   "metadata": {},
   "source": [
    "# Multi-Agent MCP Example\n",
    "\n",
    "To start, login to azure via the CLI:\n",
    "\n",
    "`az login --tenant <YOUR_TENANT_ID>`\n",
    "\n",
    "`az account set -s <YOUR_SUBSCRIPTION_ID>`"
   ]
  },
  {
   "cell_type": "code",
   "execution_count": 1,
   "id": "12cbca44",
   "metadata": {},
   "outputs": [],
   "source": [
    "import os, time\n",
    "from dotenv import load_dotenv\n",
    "from typing import Optional, Set\n",
    "from azure.ai.projects import AIProjectClient\n",
    "from azure.identity import DefaultAzureCredential\n",
    "from azure.ai.agents import AgentsClient\n",
    "from azure.ai.agents.models import FunctionTool, ToolSet, McpTool, RequiredMcpToolCall, SubmitToolApprovalAction, ToolApproval\n",
    "from utils.agent_team import AgentTeam, AgentTask, _create_task\n",
    "from utils.agent_trace_configurator import AgentTraceConfigurator"
   ]
  },
  {
   "cell_type": "code",
   "execution_count": 2,
   "id": "c0f9c316",
   "metadata": {},
   "outputs": [],
   "source": [
    "load_dotenv()\n",
    "# Initialize the AI Project Client\n",
    "agent_client = AgentsClient(\n",
    "    endpoint=os.getenv(\"AI_FOUNDRY_PROJECT_ENDPOINT\"),\n",
    "    credential=DefaultAzureCredential()\n",
    ")"
   ]
  },
  {
   "cell_type": "code",
   "execution_count": 3,
   "id": "7725a471",
   "metadata": {},
   "outputs": [
    {
     "name": "stdout",
     "output_type": "stream",
     "text": [
      "Using MCP server: msdocs at https://learn.microsoft.com/api/mcp\n"
     ]
    }
   ],
   "source": [
    "# Get the MCP server configuration from environment variables\n",
    "mcp_server_url = os.environ.get(\"MCP_MSFT_DOCS_SERVER\")\n",
    "mcp_server_label = \"msdocs\"\n",
    "\n",
    "print(f\"Using MCP server: {mcp_server_label} at {mcp_server_url}\")\n",
    "\n",
    "msft_docs_mcp_tool = McpTool(\n",
    "    server_label=mcp_server_label,\n",
    "    server_url=mcp_server_url,\n",
    ")\n",
    "\n",
    "msft_docs_mcp_tool.set_approval_mode(\"never\")"
   ]
  },
  {
   "cell_type": "code",
   "execution_count": 4,
   "id": "836b6275",
   "metadata": {},
   "outputs": [],
   "source": [
    "def create_task(team_name: str, recipient: str, request: str, requestor: str) -> str:\n",
    "    \"\"\"\n",
    "    Requests another agent in the team to complete a task.\n",
    "\n",
    "    :param team_name (str): The name of the team.\n",
    "    :param recipient (str): The name of the agent that is being requested to complete the task.\n",
    "    :param request (str): A description of the to complete. This can also be a question.\n",
    "    :param requestor (str): The name of the agent who is requesting the task.\n",
    "    :return: True if the task was successfully received, False otherwise.\n",
    "    :rtype: str\n",
    "    \"\"\"\n",
    "    task = AgentTask(recipient=recipient, task_description=request, requestor=requestor)\n",
    "    team: Optional[AgentTeam] = None\n",
    "    try:\n",
    "        team = AgentTeam.get_team(team_name)\n",
    "    except:\n",
    "        pass\n",
    "    if team is not None:\n",
    "        team.add_task(task)\n",
    "        return \"True\"\n",
    "    return \"False\"\n",
    "\n",
    "\n",
    "# Any additional functions that might be used by the agents:\n",
    "agent_team_default_functions: Set = {\n",
    "    create_task,\n",
    "}\n",
    "\n",
    "default_function_tool = FunctionTool(functions=agent_team_default_functions)"
   ]
  },
  {
   "cell_type": "code",
   "execution_count": 5,
   "id": "9f1767b4",
   "metadata": {},
   "outputs": [],
   "source": [
    "agent_team = AgentTeam(\"account_team\", agents_client=agent_client)"
   ]
  },
  {
   "cell_type": "code",
   "execution_count": 6,
   "id": "92430152",
   "metadata": {},
   "outputs": [],
   "source": [
    "account_manager_toolset = ToolSet()\n",
    "account_manager_toolset.add(default_function_tool)\n"
   ]
  },
  {
   "cell_type": "code",
   "execution_count": 7,
   "id": "2d6e0b56",
   "metadata": {},
   "outputs": [],
   "source": [
    "agent_team.set_team_leader(\n",
    "    model=os.environ[\"MODEL_DEPLOYMENT_NAME\"],\n",
    "    name=\"TeamLeader\",\n",
    "    instructions=(\n",
    "        \"You are an agent named 'TeamLeader'. You are a leader of a team of agents. The name of your team is 'account_team'. \"\n",
    "        \"You are an agent that is responsible for receiving requests from user and utilizing a team of agents to complete the task. \"\n",
    "        \"When you are passed a request, the only thing you will do is evaluate which team member should do which task next to complete the request. \"\n",
    "        \"You will use the provided create_task function to create a task for the agent that is best suited for handling the task next. \"\n",
    "        \"You will respond with the description of who you assigned the task and why. When you think that the original user request is \"\n",
    "        \"processed completely utilizing all the talent available in the team, you do not have to create anymore tasks. \"\n",
    "        \"Using the skills of all the team members when applicable is highly valued. \"\n",
    "        \"Do not create parallel tasks. \"\n",
    "        \"Here are the other agents in your team: \"\n",
    "        \"- Specialist: You are an expert in Azure services and tools. Your task is to assist users with their Azure-related questions and tasks. Your name is Specialist. \"\n",
    "        \"- Engineer: You are an engineer who specializes in architecting and implementing solutions on Azure. Your task is to review recommended solutions for a request and validate that they meet the requirements. Your name is Engineer. \"\n",
    "    ),\n",
    "    toolset=account_manager_toolset,\n",
    ")"
   ]
  },
  {
   "cell_type": "code",
   "execution_count": 8,
   "id": "71d28be0",
   "metadata": {},
   "outputs": [],
   "source": [
    "specialist_toolset = ToolSet()\n",
    "specialist_toolset.add(msft_docs_mcp_tool)"
   ]
  },
  {
   "cell_type": "code",
   "execution_count": 9,
   "id": "47fa1fe5",
   "metadata": {},
   "outputs": [],
   "source": [
    "agent_team.add_agent(\n",
    "    model=os.environ[\"MODEL_DEPLOYMENT_NAME\"],\n",
    "    name=\"Specialist\",\n",
    "    instructions=\"\"\"\n",
    "            You are an expert in Azure services and tools. Your task is to assist users with their Azure-related questions and tasks. Your name is Specialist.\n",
    "            \n",
    "            Use the MCP tool to: \n",
    "            - Access the latest Azure documentation and resources to provide accurate and up-to-date information.\n",
    "            - Share useful links, code snippets, and explanations based on the user's request.\n",
    "            - Perform tasks such as retrieving documentation, checking service status, and providing guidance on Azure best practices.\n",
    "\n",
    "            When a user asks a question or requests assistance, you will use the MCP tool to find relevant information and provide a response. \n",
    "            If the MCP tool is not available, you will inform the user that the tool is not available and cannot assist with their request.\n",
    "            Ensure that your responses are clear, concise, and relevant to the user's request. Do not provide any unverified information.\n",
    "            If you are unable to assist with a request, inform the user that you cannot help with that request at this time.\n",
    "    \"\"\",\n",
    "    toolset=specialist_toolset,\n",
    ")"
   ]
  },
  {
   "cell_type": "code",
   "execution_count": 10,
   "id": "b19771d8",
   "metadata": {},
   "outputs": [],
   "source": [
    "agent_team.add_agent(\n",
    "    model=os.environ[\"MODEL_DEPLOYMENT_NAME\"],\n",
    "    name=\"Engineer\",\n",
    "    instructions=\"\"\"\n",
    "            You are an engineer who specializes in architecting and implementing solutions on Azure. Your name is Engineer.\n",
    "            Your task is to review recommended solutions for a request and validate that they meet the requirements.\n",
    "\n",
    "            Use the MCP tool to: \n",
    "            - Ensure that all solutions are necessary to implement an architecture.\n",
    "            - Determine if two solutions meet the same requirement and are not meant to be used in combination to implement an architecture.\n",
    "            - Ensure that the selected solutions will produce an architecture that aligns with best practices.\n",
    "            - Perform tasks such as retrieving documentation.            \n",
    "\n",
    "            If two solutions meet the same requirement and are not meant to be used in combination to implement an architecture, pick the best solution, and update the recommendation. \n",
    "            Remove solutions from the recommendation that do not meet the requirements or are not necessary to implement an architecture.     \n",
    "    \"\"\",\n",
    "    toolset=specialist_toolset,\n",
    ")"
   ]
  },
  {
   "cell_type": "code",
   "execution_count": 11,
   "id": "17cee036",
   "metadata": {},
   "outputs": [],
   "source": [
    "agent_team.assemble_team()"
   ]
  },
  {
   "cell_type": "code",
   "execution_count": 12,
   "id": "582976a3",
   "metadata": {},
   "outputs": [],
   "source": [
    "cx_request = \"\"\"\n",
    "    I want to build a RAG web application that uses Azure OpenAI to answer questions about my data. \n",
    "    Can you recommend an architecture for implementing this?\n",
    "\"\"\""
   ]
  },
  {
   "cell_type": "code",
   "execution_count": 13,
   "id": "54ffa891",
   "metadata": {},
   "outputs": [
    {
     "name": "stdout",
     "output_type": "stream",
     "text": [
      "Created thread with ID: thread_19R7O6O2znMQpGxKkDQSiCJl\n",
      "Starting task for agent 'TeamLeader'. Requestor: 'user'. Task description: 'Please create a task for agent in the team that is best suited to next process the following request. \n",
      "Use the _create_task function available for you to create the task. The request is: \n",
      "\n",
      "    I want to build a RAG web application that uses Azure OpenAI to answer questions about my data. \n",
      "    Can you recommend an architecture for implementing this?\n",
      "\n",
      "'.\n",
      "Created message with ID: msg_oo7j2dYSIDlzZ95ISL6F78yi for task in thread thread_19R7O6O2znMQpGxKkDQSiCJl\n",
      "Found agent 'TeamLeader' for task recipient 'TeamLeader'\n",
      "Processing task for agent 'TeamLeader'\n",
      "run status for agent 'TeamLeader': RunStatus.QUEUED\n",
      "Submitted tool outputs for run run_l9P8BCkTly7o2ud5E7ILxFJj in thread thread_19R7O6O2znMQpGxKkDQSiCJl\n",
      "Created and processed run for agent 'TeamLeader', run ID: run_l9P8BCkTly7o2ud5E7ILxFJj\n",
      "Run outputs 'TeamLeader': RunStatus.COMPLETED\n",
      "Agent 'TeamLeader' completed task. Outcome: I have assigned the task to Specialist. This is because Specialist is an expert in Azure services and tools, and the user request is to recommend an architecture for a RAG solution using Azure OpenAI and related Azure technologies. Specialist is best suited to analyze requirements and propose an architecture leveraging Azure best practices and services before any implementation or validation steps occur.\n",
      "Starting task for agent 'Specialist'. Requestor: 'TeamLeader'. Task description: 'A user wants to build a Retrieval-Augmented Generation (RAG) web application using Azure OpenAI to answer questions about their data. Please recommend an architecture for implementing this solution, leveraging relevant Azure services and best practices.'.\n",
      "Created message with ID: msg_cbITwXRvjcZnvI1oleqPxf9W for task in thread thread_19R7O6O2znMQpGxKkDQSiCJl\n",
      "Found agent 'Specialist' for task recipient 'Specialist'\n",
      "Processing task for agent 'Specialist'\n",
      "run status for agent 'Specialist': RunStatus.QUEUED\n",
      "Approving tool call: {'id': 'call_zcqaPECjc7XFz5WbdBhtIwbt', 'type': 'mcp', 'arguments': '{\"question\":\"recommended architecture for RAG (Retrieval-Augmented Generation) web application using Azure OpenAI\"}', 'name': 'microsoft_docs_search', 'server_label': 'msdocs'}\n",
      "Created and processed run for agent 'Specialist', run ID: run_FHjNU6AxczlQDh1MG1jyhZ7m\n",
      "Run outputs 'Specialist': RunStatus.COMPLETED\n",
      "Agent 'Specialist' completed task. Outcome: To build a Retrieval-Augmented Generation (RAG) web application using Azure OpenAI to answer questions about your data, here is the recommended Azure-native architecture based on Microsoft's best practices:\n",
      "\n",
      "### Core Architecture Components\n",
      "\n",
      "1. **Web App (App UX):**\n",
      "   - Host your front-end using Azure App Service or Azure Static Web Apps.\n",
      "   - Provides the user interface for submitting questions and displaying answers.\n",
      "\n",
      "2. **App Server (Integration Layer):**\n",
      "   - Acts as an orchestrator between the web UX, Azure AI Search, and Azure OpenAI.\n",
      "   - Can be implemented with Azure Functions, Azure App Service, or Azure Container Apps.\n",
      "\n",
      "3. **Azure AI Search:**\n",
      "   - Indexes and stores your custom data in both traditional and vectorized formats.\n",
      "   - Handles vector search (semantic and hybrid search) and retrieves relevant data snippets based on the user's query.\n",
      "\n",
      "4. **Azure OpenAI Service:**\n",
      "   - Takes the top search results as context for a prompt.\n",
      "   - Uses models like GPT-4 or ChatGPT to generate answers, grounded by your data.\n",
      "\n",
      "5. **Azure Storage (Blob Storage or Cosmos DB):**\n",
      "   - Stores original documents or data sources.\n",
      "   - Data is indexed into Azure AI Search as part of your ingestion pipeline.\n",
      "\n",
      "### Key Features & Flow\n",
      "\n",
      "1. User submits a question via the web app.\n",
      "2. Request goes to the app server/integration layer.\n",
      "3. Query is sent to Azure AI Search to find relevant content from indexed documents.\n",
      "4. Top search results are sent as context, along with the user's question, to Azure OpenAI.\n",
      "5. Azure OpenAI generates a response, including citations to source documents.\n",
      "6. Answer is rendered in the user’s browser.\n",
      "\n",
      "### Advantages\n",
      "\n",
      "- **Integrated vectorization** in Azure AI Search simplifies document ingestion.\n",
      "- **Azure OpenAI “On Your Data”** pattern requires only one API call to leverage both search and generation.\n",
      "- **Automatic citation support** for verifiable answers.\n",
      "\n",
      "### Reference Diagrams & Further Reading\n",
      "\n",
      "- [Custom RAG Pattern for Azure AI Search](https://learn.microsoft.com/en-us/azure/search/retrieval-augmented-generation-overview#custom-rag-pattern-for-azure-ai-search) (official architecture & diagram)\n",
      "- [Tutorial: Build a RAG App (Multiple Languages)](https://learn.microsoft.com/en-us/azure/app-service/tutorial-ai-openai-search-dotnet#architecture-overview)\n",
      "\n",
      "### Next Steps\n",
      "\n",
      "- Choose your preferred backend language/framework (e.g., .NET, Node.js/Express, Python/FastAPI).\n",
      "- Follow the relevant Microsoft Learn tutorial to set up and deploy your solution.\n",
      "\n",
      "Would you like a step-by-step implementation guide for a specific stack or language?\n",
      "Starting task for agent 'TeamLeader'. Requestor: 'user'. Task description: 'Check the discussion so far and especially the most recent agent response in the thread and if you see a potential task \n",
      "that could improve the final outcome, then use the _create_task function to create the task. \n",
      "Do not ever ask user confirmation for creating a task. \n",
      "If the request is completely processed, you do not have to create a task.\n",
      "'.\n",
      "Created message with ID: msg_1Rvw7RbrzWBXcFMtZE6D38dG for task in thread thread_19R7O6O2znMQpGxKkDQSiCJl\n",
      "Found agent 'TeamLeader' for task recipient 'TeamLeader'\n",
      "Processing task for agent 'TeamLeader'\n",
      "run status for agent 'TeamLeader': RunStatus.QUEUED\n",
      "Submitted tool outputs for run run_SYOSekXkx5T7mgtmPaxtuvG2 in thread thread_19R7O6O2znMQpGxKkDQSiCJl\n",
      "Created and processed run for agent 'TeamLeader', run ID: run_SYOSekXkx5T7mgtmPaxtuvG2\n",
      "Run outputs 'TeamLeader': RunStatus.COMPLETED\n",
      "Agent 'TeamLeader' completed task. Outcome: I have assigned the task to Engineer to review the recommended architecture for the RAG web application using Azure OpenAI. This step ensures the proposed solution aligns with best practices for scalability, security, and overall implementation quality. Engineer's expertise is essential to validate and suggest any improvements before the design is considered final.\n",
      "Starting task for agent 'Engineer'. Requestor: 'TeamLeader'. Task description: 'Please review the recommended architecture for a Retrieval-Augmented Generation (RAG) web application that utilizes Azure OpenAI and Azure services. Validate that the proposed solution meets the requirements for scalability, security, and best practices, and suggest any improvements if necessary.'.\n",
      "Created message with ID: msg_cL08mM9a5mi3kix9thnc8Tw2 for task in thread thread_19R7O6O2znMQpGxKkDQSiCJl\n",
      "Found agent 'Engineer' for task recipient 'Engineer'\n",
      "Processing task for agent 'Engineer'\n",
      "run status for agent 'Engineer': RunStatus.QUEUED\n",
      "Approving tool call: {'id': 'call_qmbBL2EtUrZRYlG5I8cx9j3c', 'type': 'mcp', 'arguments': '{\"question\":\"best practices for building scalable and secure RAG architecture with Azure OpenAI and Azure Cognitive Search\"}', 'name': 'microsoft_docs_search', 'server_label': 'msdocs'}\n",
      "Created and processed run for agent 'Engineer', run ID: run_Bv9awRczBiAoJtUouykHjXW0\n",
      "Run outputs 'Engineer': RunStatus.COMPLETED\n",
      "Agent 'Engineer' completed task. Outcome: Here is a review and validation of the recommended architecture for a Retrieval-Augmented Generation (RAG) web application using Azure OpenAI and Azure services:\n",
      "\n",
      "## Best Practices Alignment\n",
      "\n",
      "### Scalability\n",
      "- **Azure App Service / Azure Functions / Azure Container Apps:** Azure-native services supporting auto-scaling and regional deployment, ensuring the web UX and orchestration layer can scale with user demand.\n",
      "- **Azure AI Search:** Designed for high-throughput indexing and query workloads, and able to handle large datasets efficiently.\n",
      "- **Azure OpenAI Service:** Cloud-based, model deployment can be scaled according to request volume; ensure you select regions and models that match your capacity needs ([official guidance](https://learn.microsoft.com/en-us/azure/ai-services/openai/how-to/quotas)).\n",
      "\n",
      "### Security\n",
      "- **Private Endpoints & VNET Integration:** It is recommended that all critical components (AI Search, OpenAI, Storage) are deployed with private endpoints and are VNET-integrated. This ensures data never traverses the public internet.\n",
      "- **Role-Based Access Control (RBAC):** Enforce RBAC for services such as OpenAI, AI Search, and Storage (e.g., only users/applications assigned the correct role can access these resources). Reference: [Azure RBAC for OpenAI](https://learn.microsoft.com/en-us/azure/ai-services/openai/how-to/role-based-access-control)\n",
      "- **Data Encryption:** Use Azure-managed keys for data at rest, and enforce HTTPS/TLS for all service endpoints in transit.\n",
      "- **User Data Security:** You may need to implement security trimming in Azure AI Search if you want per-user document-level access control ([concepts and patterns](https://learn.microsoft.com/en-us/azure/search/search-security-trimming-for-azure-search)).\n",
      "\n",
      "### Implementation and RAG-Specific Guidance\n",
      "- **Appropriate Model Selection:** Use best-in-class models for embeddings and responses—e.g., \"text-embedding-3-large\" for vectorization, \"gpt-4o\" for responses ([reference](https://learn.microsoft.com/en-us/azure/search/tutorial-rag-build-solution-models#deploy-models-and-collect-information)).\n",
      "- **Indexing Strategy:** Define a robust ingestion and indexing pipeline (chunking, enrichment, embedding) based on the nature of your documents. Optimize chunk size for context window and retrieval quality.\n",
      "- **Orchestration:** The backend should orchestrate RAG steps: retrieve relevant documents via AI Search, inject as context with the user query into the OpenAI call, and aggregate responses.\n",
      "\n",
      "### Additional Improvement Suggestions\n",
      "- **Monitoring & Observability:** Enable Azure Monitor, Application Insights, and diagnostic logging across all services.\n",
      "- **Cost Optimization:** Regularly tune index sizes, storage tiers, and AI resource allocation based on usage data.\n",
      "- **Testing & Evaluation:** Systematically test chunking strategies, retrieval modes (keyword, vector, hybrid), and model parameters for RAG performance. Reference: [Evaluation Guide](https://learn.microsoft.com/en-us/azure/architecture/ai-ml/guide/rag/rag-solution-design-and-evaluation-guide).\n",
      "- **Governance:** Follow the [Azure Well-Architected Framework](https://learn.microsoft.com/en-us/azure/well-architected/) and Cloud Adoption Framework recommendations for enterprise deployments.\n",
      "\n",
      "## Summary\n",
      "\n",
      "The suggested solution aligns with Microsoft’s current recommendations and best practices for building scalable, secure, enterprise-ready RAG-based web applications on Azure. The proposed components, security measures, and scaling approaches are appropriate. \n",
      "\n",
      "**Opportunities for further enhancement** include implementing security trimming for fine-grained access, rigorous evaluation of chunking/retrieval/model choices, and ensuring all traffic is secured via VNET/private endpoint integrations.\n",
      "\n",
      "**References for deep dives and samples:**\n",
      "- [RAG in Azure AI Search](https://learn.microsoft.com/en-us/azure/search/retrieval-augmented-generation-overview)\n",
      "- [Building a RAG solution tutorial](https://learn.microsoft.com/en-us/azure/search/tutorial-rag-build-solution)\n",
      "- [Reference architecture for enterprise LLM solutions](https://learn.microsoft.com/en-us/industry/sovereignty/architecture/aiwithllm/ra-sovereign-ai-llm-configurations)\n",
      "- [Security trimming in Azure Search](https://learn.microsoft.com/en-us/azure/search/search-security-trimming-for-azure-search)\n",
      "\n",
      "If you need a detailed implementation plan or architecture diagram, let me know your preferred language/framework or hosting pattern.\n",
      "Starting task for agent 'TeamLeader'. Requestor: 'user'. Task description: 'Check the discussion so far and especially the most recent agent response in the thread and if you see a potential task \n",
      "that could improve the final outcome, then use the _create_task function to create the task. \n",
      "Do not ever ask user confirmation for creating a task. \n",
      "If the request is completely processed, you do not have to create a task.\n",
      "'.\n",
      "Created message with ID: msg_SHzWvabagYNR3XIxiNWqzspu for task in thread thread_19R7O6O2znMQpGxKkDQSiCJl\n",
      "Found agent 'TeamLeader' for task recipient 'TeamLeader'\n",
      "Processing task for agent 'TeamLeader'\n",
      "run status for agent 'TeamLeader': RunStatus.QUEUED\n",
      "Created and processed run for agent 'TeamLeader', run ID: run_3dtSaODT99i4Lig0FIMOxPi2\n",
      "Run outputs 'TeamLeader': RunStatus.COMPLETED\n",
      "Agent 'TeamLeader' completed task. Outcome: The request has been completely processed, utilizing the expertise of both Specialist (for architecture recommendation) and Engineer (for architecture validation and best practices review). No further tasks are required at this stage.\n"
     ]
    }
   ],
   "source": [
    "agent_team.process_request(request=cx_request)"
   ]
  },
  {
   "cell_type": "code",
   "execution_count": 14,
   "id": "ce246a61",
   "metadata": {},
   "outputs": [
    {
     "name": "stdout",
     "output_type": "stream",
     "text": [
      "Deleting team leader agent 'TeamLeader'\n",
      "Deleting agent 'Specialist'\n",
      "Deleting agent 'Engineer'\n"
     ]
    }
   ],
   "source": [
    "agent_team.dismantle_team()"
   ]
  }
 ],
 "metadata": {
  "kernelspec": {
   "display_name": "Python 3",
   "language": "python",
   "name": "python3"
  },
  "language_info": {
   "codemirror_mode": {
    "name": "ipython",
    "version": 3
   },
   "file_extension": ".py",
   "mimetype": "text/x-python",
   "name": "python",
   "nbconvert_exporter": "python",
   "pygments_lexer": "ipython3",
   "version": "3.12.11"
  }
 },
 "nbformat": 4,
 "nbformat_minor": 5
}
