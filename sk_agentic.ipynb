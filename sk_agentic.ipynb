{
 "cells": [
  {
   "cell_type": "code",
   "execution_count": null,
   "id": "9236f0ac",
   "metadata": {},
   "outputs": [],
   "source": [
    "# First, we add all the packages we need to the system.\n",
    "# This is what enables us to run all the code below.\n",
    "\n",
    "import os\n",
    "from dotenv import load_dotenv\n",
    "from contextlib import AsyncExitStack\n",
    "from typing import Optional, Set\n",
    "\n",
    "import semantic_kernel as sk\n",
    "from semantic_kernel.agents import AzureAIAgent, AzureAIAgentThread\n",
    "from semantic_kernel.contents import ChatMessageContent, FunctionCallContent, FunctionResultContent\n",
    "from semantic_kernel.connectors.mcp import MCPStdioPlugin\n",
    "from azure.identity import DefaultAzureCredential"
   ]
  },
  {
   "cell_type": "code",
   "execution_count": null,
   "id": "eaa9a5f8",
   "metadata": {},
   "outputs": [],
   "source": [
    "# Here, we connect to the Azure AI Foundry, and get the necessary environment variables\n",
    "# including the project endpoint, model deployment name, and tenant ID.\n",
    "\n",
    "load_dotenv()\n",
    "project_endpoint = os.getenv(\"PROJECT_ENDPOINT\")\n",
    "model_deployment = os.getenv(\"MODEL_DEPLOYMENT_NAME\")\n",
    "nonProdTenantId = os.getenv(\"TENANT_ID\")\n",
    "\n",
    "os.system(f\"az config set core.login_experience_v2=off\")\n",
    "os.system(f\"az login --tenant {nonProdTenantId}\")\n",
    "\n",
    "subscription_id = os.getenv(\"AZURE_SUBSCRIPTION_ID_FOR_AGENTS\")\n",
    "print (f\"Subscription ID - AZURE_SUBSCRIPTION_ID_FOR_AGENTS : {subscription_id}\")\n",
    "\n",
    "os.system(f\"az account set --subscription {subscription_id}\")\n",
    "credential = DefaultAzureCredential()"
   ]
  },
  {
   "cell_type": "code",
   "execution_count": null,
   "id": "7f898fc4",
   "metadata": {},
   "outputs": [],
   "source": [
    "# This block of code connects to the MCP Server and connects it to Semantic Kernel.\n",
    "async with MCPStdioPlugin(\n",
    "    name=\"InventoryManagementMCPPlugin\",\n",
    "    description=\"Inventory Management MCP Plugin\",\n",
    "    command=\"python\",\n",
    "    args=[\"server.py\"],\n",
    ") as inventory_plugin:\n",
    "    kernel = sk.Kernel()\n",
    "    kernel.add_plugin(inventory_plugin)"
   ]
  },
  {
   "cell_type": "code",
   "execution_count": null,
   "id": "d1f0a013",
   "metadata": {},
   "outputs": [],
   "source": [
    "# This creates our AI agent in Semantic Kernel, which will use the Azure AI Foundry\n",
    "# to process requests and interact with the MCP plugin.\n",
    "\n",
    "client = AzureAIAgent.create_client(credential=credential, endpoint=project_endpoint) \n",
    "\n",
    "# Create agent with the tools\n",
    "agent_definition = await client.agents.create_agent(\n",
    "    model=model_deployment,\n",
    "    instructions=\"You are a helpful agent that can use MCP tools to assist users.\"\n",
    ")\n",
    "\n",
    "agent = AzureAIAgent(\n",
    "    name=\"InventoryManagementAgent\",\n",
    "    client=client,\n",
    "    definition=agent_definition,\n",
    "    kernel=kernel,\n",
    ")\n",
    "\n",
    "thread: AzureAIAgentThread | None = None\n",
    "await inventory_plugin.connect()"
   ]
  },
  {
   "cell_type": "code",
   "execution_count": null,
   "id": "6384b5fa",
   "metadata": {},
   "outputs": [],
   "source": [
    "async def handle_intermediate_messages(message: ChatMessageContent) -> None:\n",
    "    for item in message.items or []:\n",
    "        if isinstance(item, FunctionResultContent):\n",
    "            print(f\"Function Result:> {item.result} for function: {item.name}\")\n",
    "        elif isinstance(item, FunctionCallContent):\n",
    "            print(f\"Function Call:> {item.name} with arguments: {item.arguments}\")\n",
    "        else:\n",
    "            print(f\"{item}\")"
   ]
  },
  {
   "cell_type": "code",
   "execution_count": null,
   "id": "131d67e9",
   "metadata": {},
   "outputs": [],
   "source": [
    "# Asking the first question to the agent.\n",
    "# The agent will use the MCP plugin to get the current product inventory levels.\n",
    "\n",
    "TASK = \"What are the current product inventory levels?\"\n",
    "\n",
    "\n",
    "print(f\"😃 User: '{TASK}'\")\n",
    "async for response in agent.invoke(\n",
    "    messages=TASK, thread=thread, on_intermediate_message=handle_intermediate_messages\n",
    "):\n",
    "    print(f\"# Agent: {response}\")\n",
    "    thread = response.thread\n"
   ]
  },
  {
   "cell_type": "code",
   "execution_count": null,
   "id": "de508a77",
   "metadata": {},
   "outputs": [],
   "source": [
    "# Asking the second question to the agent.\n",
    "# The agent will use the MCP plugin to get the recommended products for clearance.\n",
    "\n",
    "TASK = \"Which products would you recommend for clearance?\"\n",
    "\n",
    "\n",
    "print(f\"😃 User: '{TASK}'\")\n",
    "async for response in agent.invoke(\n",
    "    messages=TASK, thread=thread, on_intermediate_message=handle_intermediate_messages\n",
    "):\n",
    "    print(f\"# Agent: {response}\")\n",
    "    thread = response.thread\n"
   ]
  },
  {
   "cell_type": "code",
   "execution_count": null,
   "id": "cb94980f",
   "metadata": {},
   "outputs": [],
   "source": [
    "# Asking the third question to the agent.\n",
    "# The agent will use the MCP plugin to get the best selling products this week.\n",
    "\n",
    "TASK = \"What are the best selling products this week?\"\n",
    "\n",
    "\n",
    "print(f\"😃 User: '{TASK}'\")\n",
    "async for response in agent.invoke(\n",
    "    messages=TASK, thread=thread, on_intermediate_message=handle_intermediate_messages\n",
    "):\n",
    "    print(f\"# Agent: {response}\")\n",
    "    thread = response.thread\n"
   ]
  },
  {
   "cell_type": "code",
   "execution_count": null,
   "id": "1ecdc5fa",
   "metadata": {},
   "outputs": [],
   "source": [
    "# Asking the fourth question to the agent.\n",
    "# The agent will use the MCP plugin to get the recommended products to restock.\n",
    "\n",
    "TASK = \"Which products would you recommend to restock?\"\n",
    "\n",
    "print(f\"😃 User: '{TASK}'\")\n",
    "async for response in agent.invoke(\n",
    "    messages=TASK, thread=thread, on_intermediate_message=handle_intermediate_messages\n",
    "):\n",
    "    print(f\"# Agent: {response}\")\n",
    "    thread = response.thread\n"
   ]
  },
  {
   "cell_type": "code",
   "execution_count": null,
   "id": "251bb896",
   "metadata": {},
   "outputs": [],
   "source": [
    "# Asking the fifth question to the agent.\n",
    "# The agent will use the MCP plugin to get product details.\n",
    "\n",
    "TASK = \"Can you tell me about Grandma's Boysenberry Spread?\"\n",
    "\n",
    "print(f\"😃 User: '{TASK}'\")\n",
    "async for response in agent.invoke(\n",
    "    messages=TASK, thread=thread, on_intermediate_message=handle_intermediate_messages\n",
    "):\n",
    "    print(f\"# Agent: {response}\")\n",
    "    thread = response.thread"
   ]
  },
  {
   "cell_type": "code",
   "execution_count": null,
   "id": "b3ac001d",
   "metadata": {},
   "outputs": [],
   "source": [
    "# Asking the sixth question to the agent.\n",
    "# The agent will use the MCP plugin answer the users question.\n",
    "\n",
    "# Users, come up with your own question here!\n",
    "TASK = \"Can...\"\n",
    "\n",
    "print(f\"😃 User: '{TASK}'\")\n",
    "async for response in agent.invoke(\n",
    "    messages=TASK, thread=thread, on_intermediate_message=handle_intermediate_messages\n",
    "):\n",
    "    print(f\"# Agent: {response}\")\n",
    "    thread = response.thread"
   ]
  },
  {
   "cell_type": "code",
   "execution_count": null,
   "id": "f97b24ab",
   "metadata": {},
   "outputs": [],
   "source": [
    "# Asking the last to the agent.\n",
    "# The agent will use the MCP plugin to generate a marketing campaign for products that are under clearance.\n",
    "\n",
    "TASK = \"Can you generate a marketing campaign for products that are under clearance?\"\n",
    "\n",
    "print(f\"😃 User: '{TASK}'\")\n",
    "async for response in agent.invoke(\n",
    "    messages=TASK, thread=thread, on_intermediate_message=handle_intermediate_messages\n",
    "):\n",
    "    print(f\"# Agent: {response}\")\n",
    "    thread = response.thread"
   ]
  },
  {
   "cell_type": "code",
   "execution_count": null,
   "id": "171b8104",
   "metadata": {},
   "outputs": [],
   "source": [
    "await thread.delete() if thread else None\n",
    "await inventory_plugin.close() if inventory_plugin else None"
   ]
  }
 ],
 "metadata": {
  "kernelspec": {
   "display_name": "Python 3",
   "language": "python",
   "name": "python3"
  },
  "language_info": {
   "codemirror_mode": {
    "name": "ipython",
    "version": 3
   },
   "file_extension": ".py",
   "mimetype": "text/x-python",
   "name": "python",
   "nbconvert_exporter": "python",
   "pygments_lexer": "ipython3",
   "version": "3.12.11"
  }
 },
 "nbformat": 4,
 "nbformat_minor": 5
}
