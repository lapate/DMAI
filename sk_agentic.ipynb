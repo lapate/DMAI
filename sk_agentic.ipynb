{
 "cells": [
  {
   "cell_type": "code",
   "execution_count": null,
   "id": "9236f0ac",
   "metadata": {},
   "outputs": [],
   "source": [
    "# First, we add all the packages we need to the system.\n",
    "# This is what enables us to run all the code below.\n",
    "\n",
    "import os\n",
    "from dotenv import load_dotenv\n",
    "\n",
    "from semantic_kernel.connectors.ai.open_ai import AzureChatCompletion\n",
    "from semantic_kernel.agents import ChatCompletionAgent\n",
    "from semantic_kernel.connectors.mcp import MCPStdioPlugin"
   ]
  },
  {
   "cell_type": "code",
   "execution_count": null,
   "id": "eaa9a5f8",
   "metadata": {},
   "outputs": [],
   "source": [
    "# Here, we connect to the Azure AI Foundry, and get the necessary environment variables\n",
    "# including the project endpoint, model deployment name, and tenant ID.\n",
    "\n",
    "load_dotenv()\n",
    "endpoint = os.getenv(\"ENDPOINT\")\n",
    "model_deployment = os.getenv(\"MODEL_DEPLOYMENT_NAME\")\n",
    "api_key = os.getenv(\"API_KEY\")\n",
    "api_version = os.getenv(\"API_VERSION\")"
   ]
  },
  {
   "cell_type": "code",
   "execution_count": null,
   "id": "7f898fc4",
   "metadata": {},
   "outputs": [],
   "source": [
    "# This block of code connects to the MCP Server\n",
    "async with MCPStdioPlugin(\n",
    "    name=\"InventoryManagementMCPPlugin\",\n",
    "    description=\"Inventory Management MCP Plugin\",\n",
    "    command=\"python\",\n",
    "    args=[\"server.py\"],\n",
    ") as inventory_plugin:\n",
    "    pass\n",
    " \n",
    "chat_service = AzureChatCompletion(\n",
    "    endpoint=endpoint,\n",
    "    deployment_name=model_deployment,\n",
    "    api_version=api_version,\n",
    "    api_key=api_key\n",
    ")"
   ]
  },
  {
   "cell_type": "code",
   "execution_count": null,
   "id": "d1f0a013",
   "metadata": {},
   "outputs": [],
   "source": [
    "inventory_agent = ChatCompletionAgent(\n",
    "    name=\"InventoryAgent\",\n",
    "    description=\"An agent that is knowledgeable about the inventory.\",\n",
    "    instructions=\"Handle research and information about the inventory, including stock levels and item details.\",\n",
    "    service=chat_service,\n",
    "    plugins=[inventory_plugin],\n",
    ")\n",
    "\n",
    "await inventory_plugin.connect()"
   ]
  },
  {
   "cell_type": "code",
   "execution_count": null,
   "id": "131d67e9",
   "metadata": {},
   "outputs": [],
   "source": [
    "# Asking the first question to the agent.\n",
    "# The agent will use the MCP plugin to get the current product inventory levels.\n",
    "\n",
    "TASK = \"What are the current product inventory levels?\"\n",
    "\n",
    "print(f\"😃: {TASK}\")\n",
    "response = await inventory_agent.get_response(messages=TASK)\n",
    "print(f\"🤖: {response.name}: {response}\")\n"
   ]
  },
  {
   "cell_type": "code",
   "execution_count": null,
   "id": "de508a77",
   "metadata": {},
   "outputs": [],
   "source": [
    "# Asking the second question to the agent.\n",
    "# The agent will use the MCP plugin to get the recommended products for clearance.\n",
    "\n",
    "TASK = \"Which products would you recommend for clearance?\"\n",
    "\n",
    "print(f\"😃: {TASK}\")\n",
    "response = await inventory_agent.get_response(messages=TASK)\n",
    "print(f\"🤖: {response.name}: {response}\")\n"
   ]
  },
  {
   "cell_type": "code",
   "execution_count": null,
   "id": "cb94980f",
   "metadata": {},
   "outputs": [],
   "source": [
    "# Asking the third question to the agent.\n",
    "# The agent will use the MCP plugin to get the best selling products this week.\n",
    "\n",
    "TASK = \"What are the best selling products this week?\"\n",
    "\n",
    "print(f\"😃: {TASK}\")\n",
    "response = await inventory_agent.get_response(messages=TASK)\n",
    "print(f\"🤖: {response.name}: {response}\")\n"
   ]
  },
  {
   "cell_type": "code",
   "execution_count": null,
   "id": "1ecdc5fa",
   "metadata": {},
   "outputs": [],
   "source": [
    "# Asking the fourth question to the agent.\n",
    "# The agent will use the MCP plugin to get the recommended products to restock.\n",
    "\n",
    "TASK = \"Which products would you recommend to restock?\"\n",
    "\n",
    "print(f\"😃: {TASK}\")\n",
    "response = await inventory_agent.get_response(messages=TASK)\n",
    "print(f\"🤖: {response.name}: {response}\")\n"
   ]
  },
  {
   "cell_type": "code",
   "execution_count": null,
   "id": "251bb896",
   "metadata": {},
   "outputs": [],
   "source": [
    "# Asking the fifth question to the agent.\n",
    "# The agent will use the MCP plugin to get product details.\n",
    "\n",
    "TASK = \"Can you tell me about Grandma's Boysenberry Spread?\"\n",
    "\n",
    "print(f\"😃: {TASK}\")\n",
    "response = await inventory_agent.get_response(messages=TASK)\n",
    "print(f\"🤖: {response.name}: {response}\")"
   ]
  },
  {
   "cell_type": "code",
   "execution_count": null,
   "id": "b3ac001d",
   "metadata": {},
   "outputs": [],
   "source": [
    "# Asking the sixth question to the agent.\n",
    "# The agent will use the MCP plugin answer the users question.\n",
    "\n",
    "# Users, come up with your own question here!\n",
    "TASK = \"Can...\"\n",
    "\n",
    "print(f\"😃: {TASK}\")\n",
    "response = await inventory_agent.get_response(messages=TASK)\n",
    "print(f\"🤖: {response.name}: {response}\")"
   ]
  },
  {
   "cell_type": "code",
   "execution_count": null,
   "id": "f97b24ab",
   "metadata": {},
   "outputs": [],
   "source": [
    "# Asking the last to the agent.\n",
    "# The agent will use the MCP plugin to generate a marketing campaign for products that are under clearance.\n",
    "\n",
    "TASK = \"Can you generate a marketing campaign for products that are under clearance?\"\n",
    "\n",
    "print(f\"😃: {TASK}\")\n",
    "response = await inventory_agent.get_response(messages=TASK)\n",
    "print(f\"🤖: {response.name}: {response}\")"
   ]
  }
 ],
 "metadata": {
  "kernelspec": {
   "display_name": "Python 3",
   "language": "python",
   "name": "python3"
  },
  "language_info": {
   "codemirror_mode": {
    "name": "ipython",
    "version": 3
   },
   "file_extension": ".py",
   "mimetype": "text/x-python",
   "name": "python",
   "nbconvert_exporter": "python",
   "pygments_lexer": "ipython3",
   "version": "3.12.11"
  }
 },
 "nbformat": 4,
 "nbformat_minor": 5
}
